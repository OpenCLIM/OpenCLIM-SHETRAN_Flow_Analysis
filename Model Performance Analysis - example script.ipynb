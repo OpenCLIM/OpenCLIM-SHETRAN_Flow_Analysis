{
 "cells": [
  {
   "cell_type": "markdown",
   "metadata": {
    "collapsed": false,
    "pycharm": {
     "name": "#%% md\n"
    }
   },
   "source": [
    "# Assessing Model Performance\n",
    "\n",
    "#### Ben Smith\n",
    "#### 10/01/2023\n",
    "\n",
    "This is chiefly aimed at the historical models (initially uncalibrated) and will create nice plots for publishing.\n",
    "\n",
    "This script will run through the historical simulations and calculate performance stats for the simulations based on their outlet discharge and daily flow records.\n",
    "\n",
    "Be aware that shifting the dates by 1 day will significantly affect the NSEs. This is an issue if you index the modelled discharges wrongly. I thought that the first value of the discharge timeseries is the value at the start of the simulation, but this does not seem to be the case. When this value is skipped, the NSEs etc. drop.\n",
    "\n",
    "## Premable\n",
    "\n",
    "First create a function (using hydroeval) that will calculate the performance stats that you need."
   ]
  },
  {
   "cell_type": "code",
   "execution_count": null,
   "metadata": {
    "collapsed": false,
    "pycharm": {
     "name": "#%%\n"
    }
   },
   "outputs": [],
   "source": [
    "# --- PACKAGES ---\n",
    "import hydroeval as he  # pip install hydroeval from inside a conda prompt\n",
    "import pandas as pd\n",
    "import numpy as np\n",
    "import os\n",
    "\n",
    "# --- PATHS ---\n",
    "exe_list = pd.read_csv(\"list_of_catchment_names.csv\", index_col=0)\n",
    "\n",
    "\n",
    "# --- FUNCTIONS ---\n",
    "# Some of these are taken from SHETRAN Post Simulation Functions on GitHUB.\n",
    "\n",
    "# --- Calculate Objective Functions for Flows -----------------\n",
    "def shetran_obj_functions(\n",
    "    regular_simulation_discharge_path: str,\n",
    "    recorded_discharge_path: str,\n",
    "    start_date: str,\n",
    "    period: list = None,\n",
    "    recorded_date_discharge_columns: list = None,\n",
    "    return_flows=False,\n",
    "    return_period=False):\n",
    "\n",
    "    \"\"\"\n",
    "    Notes:\n",
    "    - Assumes daily flow data, can be altered within function.\n",
    "    - Assumes that recorded flows have dates and are regularly spaced, with no gaps.\n",
    "    - NAs will be skipped from the analysis. NA count will be returned.\n",
    "\n",
    "    TODO - consider whether you can add code that allows you to take other columns\n",
    "            from the record so that they can be visualised at the end.\n",
    "\n",
    "    regular_simulation_discharge_path:  Path to the txt file\n",
    "    recorded_discharge_path:            Path to the csv file\n",
    "    start_date:                         The start date of the simulated flows: \"DD-MM-YYYY\"\n",
    "    period:                             The period to use (i.e. calibration/validation) as a list of dates:\n",
    "                                        [\"YYY-MM-DD\", \"YYY-MM-DD\"].\n",
    "                                        Leave blank if you want to use the whole thing.\n",
    "                                        Leave as single item in list if you want to use until the end of the data.\n",
    "    recorded_date_discharge_columns:    The columns (as a list) that contain the date and then flow data.\n",
    "    RETURNS:                            The NSE value as an array.\n",
    "    \"\"\"\n",
    "\n",
    "    # --- Read in the flows for Sim and Rec:\n",
    "    if recorded_date_discharge_columns is None:\n",
    "        recorded_date_discharge_columns = [\"date\", \"discharge_vol\"]\n",
    "\n",
    "    flow_rec = pd.read_csv(recorded_discharge_path,\n",
    "                           usecols=recorded_date_discharge_columns,\n",
    "                           parse_dates=[recorded_date_discharge_columns[0]])\n",
    "\n",
    "    # Set the columns to the following so that they are always correctly referenced:\n",
    "    # (Do not use recorded_date_discharge_columns!)\n",
    "    flow_rec.columns = [\"date\", \"discharge_vol\"]\n",
    "    flow_rec = flow_rec.set_index('date')\n",
    "\n",
    "    # Read in the simulated flows:\n",
    "    flow_sim = pd.read_csv(regular_simulation_discharge_path)\n",
    "    flow_sim.columns = [\"flow\"]\n",
    "\n",
    "    # --- Give the simulation dates:\n",
    "    flow_sim['date'] = pd.date_range(start=start_date, periods=len(flow_sim), freq='D')\n",
    "    flow_sim = flow_sim.set_index('date')  # .shift(-1)\n",
    "    # ^^ The -1 removes the 1st flow, which is the flow before the simulation.\n",
    "    # ^^ However, doing this seems to offset the flows and also means that the simulation ends a day sooner than expected... I have therefore removed, which significantly boosts the NSE values!\n",
    "\n",
    "    # --- Resize them to match\n",
    "    flows = flow_sim.merge(flow_rec, on=\"date\")\n",
    "    # ^^ Merge removes the dates that don't coincide. Beware missing record data!\n",
    "\n",
    "    # Select the period for analysis (if given):\n",
    "    if period is not None:\n",
    "        if len(period) == 1:\n",
    "            flows = flows[flows.index >= period[0]]\n",
    "        if len(period) == 2:\n",
    "            flows = flows[(flows.index >= period[0]) & (flows.index <= period[1])]\n",
    "\n",
    "    # --- Do the comparison\n",
    "    flow_NAs = np.isnan(flows[\"discharge_vol\"])  # The NAs are actually automatically removed\n",
    "\n",
    "    # Calculate the objective function:\n",
    "    obj_funs = {\"NSE\": np.round(he.evaluator(he.nse, flows[\"flow\"], flows[\"discharge_vol\"]), 2),\n",
    "                \"KGE\": np.round(he.evaluator(he.kge, flows[\"flow\"], flows[\"discharge_vol\"]), 2),\n",
    "                \"RMSE\": np.round(he.evaluator(he.rmse, flows[\"flow\"], flows[\"discharge_vol\"]), 2),\n",
    "                \"PBias\": np.round(he.evaluator(he.pbias, flows[\"flow\"], flows[\"discharge_vol\"]), 2)}\n",
    "\n",
    "    # Print out the % of data that are NA:\n",
    "    na_number = len(np.arange(len(flow_NAs))[flow_NAs]) / len(flows) * 100\n",
    "    if na_number>20:\n",
    "        print(str(round(na_number, 2)) + \"% of comparison data are NA\")\n",
    "\n",
    "    if (period is not None) & (return_period):\n",
    "        obj_funs[\"period\"] = period\n",
    "\n",
    "    if return_flows:\n",
    "        obj_funs[\"flows\"] = flows\n",
    "\n",
    "    return obj_funs\n"
   ]
  },
  {
   "cell_type": "markdown",
   "metadata": {
    "collapsed": false,
    "pycharm": {
     "name": "#%% md\n"
    }
   },
   "source": [
    "## APM Scenarios\n",
    "\n",
    "Import the simulated flows that we want to assess from the APM scenarios:"
   ]
  },
  {
   "cell_type": "code",
   "execution_count": null,
   "metadata": {
    "collapsed": false,
    "pycharm": {
     "name": "#%%\n"
    }
   },
   "outputs": [],
   "source": [
    "root_path = \"./\"\n",
    "\n",
    "simulation_periods = {\"calibration\": ['1990-01-01', \"1999-12-31\"],\n",
    "                      \"validation\": ['2000-01-01', \"2009-12-31\"]}\n",
    "\n",
    "# List the catchments that didn't complete, based on the Run Completion.xlsx:\n",
    "incomplete_simulations = [\"76011\",\"39061\", \"80005\"]\n",
    "\n",
    "# Get a list of the catchments to test:\n",
    "simulations = os.listdir(root_path)\n",
    "simulations = [s for s in simulations if \".\" not in s]\n",
    "simulations = [s for s in simulations if s not in incomplete_simulations]\n",
    "simulations = sorted(simulations)"
   ]
  },
  {
   "cell_type": "code",
   "execution_count": null,
   "metadata": {
    "collapsed": false,
    "pycharm": {
     "name": "#%%\n"
    }
   },
   "outputs": [],
   "source": [
    "# Create database to hold calibration outputs:\n",
    "performance_calibration = pd.DataFrame({\"simulation\":simulations,\n",
    "                                        \"NSE\":np.nan, \"KGE\":np.nan, \"KGE_r\":np.nan, \"KGE_a\":np.nan, \"KGE_B\":np.nan,\n",
    "                                        \"RMSE\":np.nan, \"PBias\":np.nan})\n",
    "performance_calibration.set_index('simulation', inplace=True)\n",
    "\n",
    "# Create database to hold validation outputs:\n",
    "performance_validation = pd.DataFrame({\"simulation\":simulations,\n",
    "                                       \"NSE\":np.nan, \"KGE\":np.nan, \"KGE_r\":np.nan, \"KGE_a\":np.nan, \"KGE_B\":np.nan,\n",
    "                                       \"RMSE\":np.nan, \"PBias\":np.nan})\n",
    "performance_validation.set_index('simulation', inplace=True)\n",
    "\n",
    "performance_calibration"
   ]
  },
  {
   "cell_type": "code",
   "execution_count": null,
   "metadata": {
    "collapsed": false,
    "pycharm": {
     "name": "#%%\n"
    }
   },
   "outputs": [],
   "source": [
    "for s in performance_calibration.index:\n",
    "\n",
    "    print(s)\n",
    "\n",
    "    # Change flow record path if NI catchment:\n",
    "    if int(s) >= 200000:\n",
    "        flow_record_path =  \"I:/SHETRAN_GB_2021/02_Input_Data/nrfa_daily_flows/NI restructured to match CAMELS/GDF_\" + s + \"_19701001-20150930.csv\"\n",
    "    else:\n",
    "        flow_record_path = \"I:/CAMELS-GB/data/timeseries/CAMELS_GB_hydromet_timeseries_\" + s + \"_19701001-20150930.csv\"\n",
    "\n",
    "    # --- CALIBRATION:\n",
    "\n",
    "    try:\n",
    "        p = shetran_obj_functions(\n",
    "        regular_simulation_discharge_path=f\"{root_path}{s}/output_{s}_discharge_sim_regulartimestep.txt\",\n",
    "        recorded_discharge_path=flow_record_path,\n",
    "        recorded_date_discharge_columns=[\"date\", \"discharge_vol\"],\n",
    "        start_date='01-01-1980', period=simulation_periods[\"calibration\"],\n",
    "        return_flows=False, return_period=False)\n",
    "\n",
    "        performance_calibration.loc[s, \"NSE\"] = p[\"NSE\"][0]\n",
    "        performance_calibration.loc[s, \"KGE\"] = p[\"KGE\"][0,0]\n",
    "        performance_calibration.loc[s, \"KGE_r\"] = p[\"KGE\"][1,0]\n",
    "        performance_calibration.loc[s, \"KGE_a\"] = p[\"KGE\"][2,0]\n",
    "        performance_calibration.loc[s, \"KGE_B\"] = p[\"KGE\"][3,0]\n",
    "        performance_calibration.loc[s, \"RMSE\"] = p[\"RMSE\"][0]\n",
    "        performance_calibration.loc[s, \"PBias\"] = p[\"PBias\"][0]\n",
    "    except:\n",
    "        print(\"Error with catchment \", s)\n",
    "\n",
    "    # --- VALIDATION:\n",
    "\n",
    "    try:\n",
    "        p = shetran_obj_functions(\n",
    "            regular_simulation_discharge_path=f\"{root_path}{s}/output_{s}_discharge_sim_regulartimestep.txt\",\n",
    "            recorded_discharge_path=flow_record_path,\n",
    "            recorded_date_discharge_columns=[\"date\", \"discharge_vol\"],\n",
    "            start_date='01-01-1980', period=simulation_periods[\"validation\"],\n",
    "            return_flows=False, return_period=False)\n",
    "\n",
    "        performance_validation.loc[s, \"NSE\"] = p[\"NSE\"][0]\n",
    "        performance_validation.loc[s, \"KGE\"] = p[\"KGE\"][0,0]\n",
    "        performance_validation.loc[s, \"KGE_r\"] = p[\"KGE\"][1,0]\n",
    "        performance_validation.loc[s, \"KGE_a\"] = p[\"KGE\"][2,0]\n",
    "        performance_validation.loc[s, \"KGE_B\"] = p[\"KGE\"][3,0]\n",
    "        performance_validation.loc[s, \"RMSE\"] = p[\"RMSE\"][0]\n",
    "        performance_validation.loc[s, \"PBias\"] = p[\"PBias\"][0]\n",
    "    except:\n",
    "        print(\"Error with catchment \", s)"
   ]
  },
  {
   "cell_type": "code",
   "execution_count": null,
   "metadata": {
    "collapsed": false
   },
   "outputs": [],
   "source": [
    "# --- Write the stats to csvs:\n",
    "performance_calibration.to_csv(\"./Simulation performance - Historical - Calibration.csv\")\n",
    "performance_validation.to_csv(\"./Simulation performance - Historical - Validation.csv\")"
   ]
  },
  {
   "cell_type": "markdown",
   "metadata": {
    "collapsed": false,
    "pycharm": {
     "name": "#%% md\n"
    }
   },
   "source": [
    "## Autocalibration Scenarios"
   ]
  },
  {
   "cell_type": "code",
   "execution_count": null,
   "metadata": {
    "collapsed": false
   },
   "outputs": [],
   "source": [
    "simulations = exe_list.index.astype(str)\n",
    "\n",
    "# Create database to hold calibration outputs:\n",
    "performance_calibration = pd.DataFrame({\"simulation\":simulations,\n",
    "                                        \"NSE\":np.nan, \"KGE\":np.nan, \"KGE_r\":np.nan, \"KGE_a\":np.nan, \"KGE_B\":np.nan,\n",
    "                                        \"RMSE\":np.nan, \"PBias\":np.nan})\n",
    "performance_calibration.set_index('simulation', inplace=True)\n",
    "\n",
    "# Create database to hold validation outputs:\n",
    "performance_validation = pd.DataFrame({\"simulation\":simulations,\n",
    "                                       \"NSE\":np.nan, \"KGE\":np.nan, \"KGE_r\":np.nan, \"KGE_a\":np.nan, \"KGE_B\":np.nan,\n",
    "                                       \"RMSE\":np.nan, \"PBias\":np.nan})\n",
    "performance_validation.set_index('simulation', inplace=True)"
   ]
  },
  {
   "cell_type": "code",
   "execution_count": null,
   "metadata": {
    "collapsed": false
   },
   "outputs": [],
   "source": [
    "# Analyse the autocalibration results:\n",
    "\n",
    "autocal_flowpath = \"./Autocal_Historical_Outlet_Discharge/\"\n",
    "\n",
    "# CALIBRATION:\n",
    "for s in performance_calibration.index:\n",
    "\n",
    "    print(s)\n",
    "\n",
    "    sim_path = f\"{autocal_flowpath}output_{s}_discharge_sim_regulartimestep.txt\"\n",
    "\n",
    "    # Change flow record path if NI catchment:\n",
    "    if int(s) >= 200000:\n",
    "        flow_record_path = \"./GaugedDailyFlow_\" + s + \"_19701001-20150930.csv\"\n",
    "    else:\n",
    "        flow_record_path = \"./CAMELS_GB_hydromet_timeseries_\" + s + \"_19701001-20150930.csv\"\n",
    "\n",
    "    # --- CALIBRATION ---\n",
    "    p = shetran_obj_functions(\n",
    "        regular_simulation_discharge_path=sim_path,\n",
    "        recorded_discharge_path=flow_record_path,\n",
    "        recorded_date_discharge_columns=[\"date\", \"discharge_vol\"],\n",
    "        start_date='01-01-1980', period=simulation_periods[\"calibration\"],\n",
    "        return_flows=False, return_period=False)\n",
    "\n",
    "    performance_calibration.loc[s, \"NSE\"] = p[\"NSE\"][0]\n",
    "    performance_calibration.loc[s, \"KGE\"] = p[\"KGE\"][0,0]\n",
    "    performance_calibration.loc[s, \"KGE_r\"] = p[\"KGE\"][1,0]\n",
    "    performance_calibration.loc[s, \"KGE_a\"] = p[\"KGE\"][2,0]\n",
    "    performance_calibration.loc[s, \"KGE_B\"] = p[\"KGE\"][3,0]\n",
    "    performance_calibration.loc[s, \"RMSE\"] = p[\"RMSE\"][0]\n",
    "    performance_calibration.loc[s, \"PBIas\"] = p[\"PBias\"][0]\n",
    "\n",
    "    # --- VALIDATION ---\n",
    "    p = shetran_obj_functions(\n",
    "        regular_simulation_discharge_path=sim_path,\n",
    "        recorded_discharge_path=flow_record_path,\n",
    "        recorded_date_discharge_columns=[\"date\", \"discharge_vol\"],\n",
    "        start_date='01-01-1980', period=simulation_periods[\"validation\"],\n",
    "        return_flows=False, return_period=False)\n",
    "\n",
    "    performance_validation.loc[s, \"NSE\"] = p[\"NSE\"][0]\n",
    "    performance_validation.loc[s, \"KGE\"] = p[\"KGE\"][0,0]\n",
    "    performance_validation.loc[s, \"KGE_r\"] = p[\"KGE\"][1,0]\n",
    "    performance_validation.loc[s, \"KGE_a\"] = p[\"KGE\"][2,0]\n",
    "    performance_validation.loc[s, \"KGE_B\"] = p[\"KGE\"][3,0]\n",
    "    performance_validation.loc[s, \"RMSE\"] = p[\"RMSE\"][0]\n",
    "    performance_validation.loc[s, \"PBIas\"] = p[\"PBias\"][0]\n",
    "\n",
    "# Write the stats to csvs:\n",
    "performance_calibration.to_csv(\"./Outputs/Simulation performance - Autocal_Historical - Calibration.csv\")\n",
    "performance_validation.to_csv(\"./Outputs/Simulation performance - Autocal_Historical - Validation.csv\")"
   ]
  }
 ],
 "metadata": {
  "kernelspec": {
   "display_name": "Python 3.9.12 ('base')",
   "language": "python",
   "name": "python3"
  },
  "language_info": {
   "codemirror_mode": {
    "name": "ipython",
    "version": 3
   },
   "file_extension": ".py",
   "mimetype": "text/x-python",
   "name": "python",
   "nbconvert_exporter": "python",
   "pygments_lexer": "ipython3",
   "version": "3.9.12"
  },
  "vscode": {
   "interpreter": {
    "hash": "af501a8e14a060771b55990e66d36606b5fc895f16a70ad1d4fd94d4e4c1b99e"
   }
  }
 },
 "nbformat": 4,
 "nbformat_minor": 0
}
